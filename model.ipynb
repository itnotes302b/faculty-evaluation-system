{
 "cells": [
  {
   "cell_type": "code",
   "execution_count": 36,
   "metadata": {},
   "outputs": [],
   "source": [
    "import numpy as np\n",
    "import pandas as pd\n",
    "import seaborn as sns\n",
    "import matplotlib.pyplot as plt\n",
    "import os\n",
    "import re\n",
    "%matplotlib inline\n",
    "# NLP packages\n",
    "import nltk\n",
    "from nltk import word_tokenize\n",
    "from sklearn.feature_extraction.text import CountVectorizer\n",
    "from sklearn.feature_extraction.text import TfidfVectorizer\n",
    "from collections import Counter\n",
    "from wordcloud import WordCloud\n",
    "from nltk.corpus import stopwords\n",
    "\n",
    "# Modeling packages\n",
    "from sklearn.model_selection import train_test_split\n",
    "from sklearn.linear_model import LogisticRegression\n",
    "from sklearn.ensemble import RandomForestClassifier\n",
    "from sklearn.metrics import accuracy_score\n",
    "from sklearn.metrics import f1_score\n",
    "import warnings\n",
    "warnings.filterwarnings('ignore')"
   ]
  },
  {
   "cell_type": "code",
   "execution_count": 57,
   "metadata": {},
   "outputs": [
    {
     "name": "stdout",
     "output_type": "stream",
     "text": [
      "      id                                             review rating\n",
      "0  45881  Rand was a good guy, really... he was. But I f...  awful\n",
      "1  45881  He is brilliant in his field, but expects his ...   poor\n",
      "2  45881  He has a major in philosophy which is why all ...  awful\n"
     ]
    },
    {
     "data": {
      "text/plain": [
       "rating\n",
       "awesome    26.803244\n",
       "awful      20.827998\n",
       "good       19.163466\n",
       "poor       16.944089\n",
       "average    16.261204\n",
       "Name: count, dtype: float64"
      ]
     },
     "execution_count": 57,
     "metadata": {},
     "output_type": "execute_result"
    },
    {
     "data": {
      "image/png": "[encoded data removed]",
      "text/plain": [
       "<Figure size 640x480 with 1 Axes>"
      ]
     },
     "metadata": {},
     "output_type": "display_data"
    }
   ],
   "source": [
    "# faculty_reviews = pd.read_csv('/content/clgstuff/rpm.csv')\n",
    "faculty_reviews = pd.read_csv(\"https://0x0.st/HWRY.csv\")\n",
    "\n",
    "faculty_reviews.rename(columns = {'tid':'id','comment':'review','quality':'rating'}, inplace = True)\n",
    "print(faculty_reviews.head(3))\n",
    "\n",
    "faculty_reviews.rating.value_counts().plot(kind='pie', autopct='%1.0f%%', colors=[\"azure\", \"lightgrey\", \"thistle\",\"khaki\",\"pink\"])\n",
    "percent_val = 100 * faculty_reviews['rating'].value_counts()/len(faculty_reviews)\n",
    "percent_val\n"
   ]
  },
  {
   "cell_type": "code",
   "execution_count": 58,
   "metadata": {},
   "outputs": [
    {
     "name": "stdout",
     "output_type": "stream",
     "text": [
      "2343\n"
     ]
    }
   ],
   "source": [
    "# faculty_reviews.drop(faculty_reviews.index[faculty_reviews.rating == \"good\"], inplace=True)\n",
    "# faculty_reviews.drop(faculty_reviews.index[faculty_reviews.rating == \"awful\"], inplace=True)\n",
    "# faculty_reviews.loc(faculty_reviews.index[faculty_reviews.rating == \"good\"], inplace=True)\n",
    "faculty_reviews.loc[faculty_reviews.rating == \"good\", \"Sentiment_rating\"] = \"positive\"\n",
    "faculty_reviews.loc[faculty_reviews.rating == \"awesome\", \"Sentiment_rating\"] = \"positive\"\n",
    "faculty_reviews.loc[faculty_reviews.rating == \"poor\", \"Sentiment_rating\"] = \"netural\"\n",
    "faculty_reviews.loc[faculty_reviews.rating == \"awful\", \"Sentiment_rating\"] = \"negative\"\n",
    "faculty_reviews.loc[faculty_reviews.rating == \"average\", \"Sentiment_rating\"] = \"netural\"\n",
    "\n",
    "percent_val = 100 * faculty_reviews['Sentiment_rating'].value_counts()/len(faculty_reviews)\n",
    "percent_val\n",
    "\n",
    "# faculty_reviews\n",
    "# faculty_reviews.to_csv(\"dasdata.csv\",index=False)\n",
    "# file1 = open(\"dasdata.csv\", \"a\")  # append mode\n",
    "\n",
    "# file1.close()\n",
    "\n",
    "print(len(faculty_reviews))"
   ]
  },
  {
   "cell_type": "code",
   "execution_count": 59,
   "metadata": {},
   "outputs": [
    {
     "data": {
      "text/html": [
       "<div>\n",
       "<style scoped>\n",
       "    .dataframe tbody tr th:only-of-type {\n",
       "        vertical-align: middle;\n",
       "    }\n",
       "\n",
       "    .dataframe tbody tr th {\n",
       "        vertical-align: top;\n",
       "    }\n",
       "\n",
       "    .dataframe thead th {\n",
       "        text-align: right;\n",
       "    }\n",
       "</style>\n",
       "<table border=\"1\" class=\"dataframe\">\n",
       "  <thead>\n",
       "    <tr style=\"text-align: right;\">\n",
       "      <th></th>\n",
       "      <th>id</th>\n",
       "      <th>review</th>\n",
       "      <th>rating</th>\n",
       "      <th>Sentiment_rating</th>\n",
       "    </tr>\n",
       "  </thead>\n",
       "  <tbody>\n",
       "    <tr>\n",
       "      <th>0</th>\n",
       "      <td>45881</td>\n",
       "      <td>rand was a good guy really he was but i felt h...</td>\n",
       "      <td>awful</td>\n",
       "      <td>negative</td>\n",
       "    </tr>\n",
       "    <tr>\n",
       "      <th>1</th>\n",
       "      <td>45881</td>\n",
       "      <td>he is brilliant in his field but expects his s...</td>\n",
       "      <td>poor</td>\n",
       "      <td>netural</td>\n",
       "    </tr>\n",
       "    <tr>\n",
       "      <th>2</th>\n",
       "      <td>45881</td>\n",
       "      <td>he has a major in philosophy which is why all ...</td>\n",
       "      <td>awful</td>\n",
       "      <td>negative</td>\n",
       "    </tr>\n",
       "    <tr>\n",
       "      <th>3</th>\n",
       "      <td>45881</td>\n",
       "      <td>i thought his class was extremely hard but des...</td>\n",
       "      <td>good</td>\n",
       "      <td>positive</td>\n",
       "    </tr>\n",
       "    <tr>\n",
       "      <th>4</th>\n",
       "      <td>45881</td>\n",
       "      <td>i recently just finished taking comp 110 with ...</td>\n",
       "      <td>poor</td>\n",
       "      <td>netural</td>\n",
       "    </tr>\n",
       "    <tr>\n",
       "      <th>...</th>\n",
       "      <td>...</td>\n",
       "      <td>...</td>\n",
       "      <td>...</td>\n",
       "      <td>...</td>\n",
       "    </tr>\n",
       "    <tr>\n",
       "      <th>2338</th>\n",
       "      <td>64144</td>\n",
       "      <td>hes really disoriented but a really cool guy a...</td>\n",
       "      <td>average</td>\n",
       "      <td>netural</td>\n",
       "    </tr>\n",
       "    <tr>\n",
       "      <th>2339</th>\n",
       "      <td>64144</td>\n",
       "      <td>no comments</td>\n",
       "      <td>good</td>\n",
       "      <td>positive</td>\n",
       "    </tr>\n",
       "    <tr>\n",
       "      <th>2340</th>\n",
       "      <td>64144</td>\n",
       "      <td>horrible</td>\n",
       "      <td>average</td>\n",
       "      <td>netural</td>\n",
       "    </tr>\n",
       "    <tr>\n",
       "      <th>2341</th>\n",
       "      <td>64144</td>\n",
       "      <td>no comments</td>\n",
       "      <td>awful</td>\n",
       "      <td>negative</td>\n",
       "    </tr>\n",
       "    <tr>\n",
       "      <th>2342</th>\n",
       "      <td>64144</td>\n",
       "      <td>no comments</td>\n",
       "      <td>awful</td>\n",
       "      <td>negative</td>\n",
       "    </tr>\n",
       "  </tbody>\n",
       "</table>\n",
       "<p>2343 rows × 4 columns</p>\n",
       "</div>"
      ],
      "text/plain": [
       "         id                                             review   rating  \\\n",
       "0     45881  rand was a good guy really he was but i felt h...    awful   \n",
       "1     45881  he is brilliant in his field but expects his s...     poor   \n",
       "2     45881  he has a major in philosophy which is why all ...    awful   \n",
       "3     45881  i thought his class was extremely hard but des...     good   \n",
       "4     45881  i recently just finished taking comp 110 with ...     poor   \n",
       "...     ...                                                ...      ...   \n",
       "2338  64144  hes really disoriented but a really cool guy a...  average   \n",
       "2339  64144                                        no comments     good   \n",
       "2340  64144                                           horrible  average   \n",
       "2341  64144                                        no comments    awful   \n",
       "2342  64144                                        no comments    awful   \n",
       "\n",
       "     Sentiment_rating  \n",
       "0            negative  \n",
       "1             netural  \n",
       "2            negative  \n",
       "3            positive  \n",
       "4             netural  \n",
       "...               ...  \n",
       "2338          netural  \n",
       "2339         positive  \n",
       "2340          netural  \n",
       "2341         negative  \n",
       "2342         negative  \n",
       "\n",
       "[2343 rows x 4 columns]"
      ]
     },
     "execution_count": 59,
     "metadata": {},
     "output_type": "execute_result"
    }
   ],
   "source": [
    "faculty_reviews['review'] = faculty_reviews['review'].str.lower().str.replace('[^\\w\\s]', '', regex=True)\n",
    "\n",
    "faculty_reviews"
   ]
  },
  {
   "cell_type": "code",
   "execution_count": 60,
   "metadata": {},
   "outputs": [],
   "source": [
    "# nltk.download('stopwords')\n",
    "# nltk.download('punkt')\n",
    "# faculty_reviews['reviews_text_new'] = faculty_reviews['review'].str.lower()\n",
    "# spl_chars = faculty_reviews['reviews_text_new'].apply(lambda review:\n",
    "#                                                      [char for char in list(review) if not char.isalnum() and char != ' '])\n",
    "\n",
    "# ## Getting list of list into a single list\n",
    "# flat_list = [item for sublist in spl_chars for item in sublist]\n",
    "\n",
    "# review_backup = faculty_reviews['reviews_text_new'].copy()\n",
    "# faculty_reviews['reviews_text_new'] = faculty_reviews['reviews_text_new'].str.replace(r'[^A-Za-z0-9 ]+', ' ')\n",
    "# stop_words = stopwords.words('english')\n",
    "# def stopwords_removal(stop_words, sentence):\n",
    "#     return [word for word in nltk.word_tokenize(sentence) if word not in stop_words]\n",
    "\n",
    "# faculty_reviews['reviews_text_nonstop'] = faculty_reviews['reviews_text_new'].apply(lambda row: stopwords_removal(stop_words, row))\n",
    "# faculty_reviews[['reviews_text_new','reviews_text_nonstop']]"
   ]
  },
  {
   "cell_type": "code",
   "execution_count": 65,
   "metadata": {},
   "outputs": [],
   "source": [
    "# vectorizer = TfidfVectorizer (min_df=7, max_df=0.8, stop_words=stopwords.words('english'))\n",
    "vectorizer = TfidfVectorizer (min_df=2, max_df=0.8, stop_words=stopwords.words('english'))\n",
    "\n",
    "processed_features = vectorizer.fit_transform(faculty_reviews['review'].astype(str)).toarray()\n",
    "\n",
    "X_train, X_test, y_train, y_test = train_test_split(\n",
    "                                                    processed_features,# Features\n",
    "                                                    faculty_reviews['Sentiment_rating'], # Target variable,\n",
    "                                                    test_size=0.2,# 20% test size\n",
    "                                                    random_state=0\n",
    "                                                    )\n",
    "\n"
   ]
  },
  {
   "cell_type": "code",
   "execution_count": 66,
   "metadata": {},
   "outputs": [
    {
     "data": {
      "text/plain": [
       "1874"
      ]
     },
     "execution_count": 66,
     "metadata": {},
     "output_type": "execute_result"
    }
   ],
   "source": [
    "len(X_train)"
   ]
  },
  {
   "cell_type": "code",
   "execution_count": 68,
   "metadata": {},
   "outputs": [
    {
     "name": "stdout",
     "output_type": "stream",
     "text": [
      "[[ 40  46  18]\n",
      " [ 19  68  81]\n",
      " [  2  19 176]]\n",
      "              precision    recall  f1-score   support\n",
      "\n",
      "    negative       0.66      0.38      0.48       104\n",
      "     netural       0.51      0.40      0.45       168\n",
      "    positive       0.64      0.89      0.75       197\n",
      "\n",
      "    accuracy                           0.61       469\n",
      "   macro avg       0.60      0.56      0.56       469\n",
      "weighted avg       0.60      0.61      0.58       469\n",
      "\n",
      "0.605543710021322\n"
     ]
    }
   ],
   "source": [
    "from sklearn.ensemble import RandomForestClassifier\n",
    "\n",
    "text_classifier = RandomForestClassifier()\n",
    "text_classifier.fit(X_train,y_train)\n",
    "predictions = text_classifier.predict(X_test)\n",
    "\n",
    "from sklearn.metrics import classification_report, confusion_matrix, accuracy_score\n",
    "\n",
    "print(confusion_matrix(y_test,predictions))\n",
    "print(classification_report(y_test,predictions))\n",
    "print(accuracy_score(y_test, predictions))"
   ]
  },
  {
   "cell_type": "code",
   "execution_count": 69,
   "metadata": {},
   "outputs": [
    {
     "name": "stdout",
     "output_type": "stream",
     "text": [
      "<class 'numpy.ndarray'>\n",
      "['negative']\n"
     ]
    }
   ],
   "source": [
    "review_array = np.array([\"faculty is very very rude , always comming late\"])\n",
    "print(type(review_array))\n",
    "review_vector = vectorizer.transform(review_array).toarray()\n",
    "print(text_classifier.predict(review_vector))"
   ]
  },
  {
   "cell_type": "code",
   "execution_count": 72,
   "metadata": {},
   "outputs": [
    {
     "name": "stdout",
     "output_type": "stream",
     "text": [
      "['positive']\n"
     ]
    }
   ],
   "source": [
    "import pickle\n",
    "pickle.dump(vectorizer, open('tranform.pkl', 'wb'))\n",
    "pickle.dump(text_classifier, open('nlp_model.pkl', 'wb'))\n",
    "filename = 'nlp_model.pkl'\n",
    "clf = pickle.load(open(filename, 'rb'))\n",
    "cv=pickle.load(open('tranform.pkl','rb'))\n",
    "\n",
    "data = [\"nor good not best\"]\n",
    "vect = cv.transform(data).toarray()\n",
    "my_prediction = clf.predict(vect)\n",
    "print(my_prediction)"
   ]
  },
  {
   "cell_type": "code",
   "execution_count": null,
   "metadata": {},
   "outputs": [],
   "source": []
  }
 ],
 "metadata": {
  "kernelspec": {
   "display_name": "Python 3",
   "language": "python",
   "name": "python3"
  },
  "language_info": {
   "codemirror_mode": {
    "name": "ipython",
    "version": 3
   },
   "file_extension": ".py",
   "mimetype": "text/x-python",
   "name": "python",
   "nbconvert_exporter": "python",
   "pygments_lexer": "ipython3",
   "version": "3.9.18"
  }
 },
 "nbformat": 4,
 "nbformat_minor": 2
}
