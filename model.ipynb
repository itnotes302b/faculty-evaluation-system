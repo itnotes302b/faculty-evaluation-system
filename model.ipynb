{
 "cells": [
  {
   "cell_type": "code",
   "execution_count": 3,
   "metadata": {},
   "outputs": [],
   "source": [
    "import numpy as np\n",
    "import pandas as pd\n",
    "import seaborn as sns\n",
    "import matplotlib.pyplot as plt\n",
    "import os\n",
    "import re\n",
    "%matplotlib inline\n",
    "# NLP packages\n",
    "import nltk\n",
    "from nltk import word_tokenize\n",
    "from sklearn.feature_extraction.text import CountVectorizer\n",
    "from sklearn.feature_extraction.text import TfidfVectorizer\n",
    "from collections import Counter\n",
    "from wordcloud import WordCloud\n",
    "from nltk.corpus import stopwords\n",
    "\n",
    "# Modeling packages\n",
    "from sklearn.model_selection import train_test_split\n",
    "from sklearn.linear_model import LogisticRegression\n",
    "from sklearn.ensemble import RandomForestClassifier\n",
    "from sklearn.metrics import accuracy_score\n",
    "from sklearn.metrics import f1_score\n",
    "import warnings\n",
    "warnings.filterwarnings('ignore')"
   ]
  },
  {
   "cell_type": "code",
   "execution_count": null,
   "metadata": {},
   "outputs": [],
   "source": [
    "# faculty_reviews = pd.read_csv('/content/clgstuff/rpm.csv')\n",
    "faculty_reviews = pd.read_csv(\"https://0x0.st/HWh-.csv\")\n",
    "\n",
    "faculty_reviews.rename(columns = {'tid':'id','comment':'review','quality':'rating'}, inplace = True)\n",
    "print(faculty_reviews.head(3))\n",
    "\n",
    "faculty_reviews.rating.value_counts().plot(kind='pie', autopct='%1.0f%%', colors=[\"azure\", \"lightgrey\", \"thistle\",\"khaki\",\"pink\"])\n",
    "percent_val = 100 * faculty_reviews['rating'].value_counts()/len(faculty_reviews)\n",
    "percent_val\n",
    "faculty_reviews.loc[faculty_reviews.rating == \"average\", \"Sentiment_rating\"] = \"netural\"\n",
    "faculty_reviews.to_csv(\"dasdata.csv\",index=False)\n",
    "file1 = open(\"dasdata.csv\", \"a\")  # append mode\n",
    "# file1.write('111,\"nor good not best\",netural')\n",
    "# file1.write('\\n111,\"Average faculty \",netural')\n",
    "# file1.write('\\n111,\"Average\",netural')\n",
    "\n",
    "file1.close()"
   ]
  },
  {
   "cell_type": "code",
   "execution_count": null,
   "metadata": {},
   "outputs": [],
   "source": [
    "faculty_reviews.drop(faculty_reviews.index[faculty_reviews.rating == \"good\"], inplace=True)\n",
    "faculty_reviews.drop(faculty_reviews.index[faculty_reviews.rating == \"poor\"], inplace=True)\n",
    "# faculty_reviews.loc(faculty_reviews.index[faculty_reviews.rating == \"good\"], inplace=True)\n",
    "# faculty_reviews.loc[faculty_reviews.rating == \"good\", \"Sentiment_rating\"] = \"positive\"\n",
    "faculty_reviews.loc[faculty_reviews.rating == \"awesome\", \"Sentiment_rating\"] = \"positive\"\n",
    "# faculty_reviews.loc[faculty_reviews.rating == \"poor\", \"Sentiment_rating\"] = \"netural\"\n",
    "faculty_reviews.loc[faculty_reviews.rating == \"awful\", \"Sentiment_rating\"] = \"negative\"\n",
    "faculty_reviews.loc[faculty_reviews.rating == \"average\", \"Sentiment_rating\"] = \"netural\""
   ]
  },
  {
   "cell_type": "code",
   "execution_count": null,
   "metadata": {},
   "outputs": [],
   "source": [
    "nltk.download('stopwords')\n",
    "nltk.download('punkt')\n",
    "faculty_reviews['reviews_text_new'] = faculty_reviews['review'].str.lower()\n",
    "spl_chars = faculty_reviews['reviews_text_new'].apply(lambda review:\n",
    "                                                     [char for char in list(review) if not char.isalnum() and char != ' '])\n",
    "\n",
    "## Getting list of list into a single list\n",
    "flat_list = [item for sublist in spl_chars for item in sublist]\n",
    "\n",
    "review_backup = faculty_reviews['reviews_text_new'].copy()\n",
    "faculty_reviews['reviews_text_new'] = faculty_reviews['reviews_text_new'].str.replace(r'[^A-Za-z0-9 ]+', ' ')\n",
    "stop_words = stopwords.words('english')\n",
    "def stopwords_removal(stop_words, sentence):\n",
    "    return [word for word in nltk.word_tokenize(sentence) if word not in stop_words]\n",
    "\n",
    "faculty_reviews['reviews_text_nonstop'] = faculty_reviews['reviews_text_new'].apply(lambda row: stopwords_removal(stop_words, row))\n",
    "faculty_reviews[['reviews_text_new','reviews_text_nonstop']]"
   ]
  },
  {
   "cell_type": "code",
   "execution_count": null,
   "metadata": {},
   "outputs": [],
   "source": []
  }
 ],
 "metadata": {
  "kernelspec": {
   "display_name": "Python 3",
   "language": "python",
   "name": "python3"
  },
  "language_info": {
   "codemirror_mode": {
    "name": "ipython",
    "version": 3
   },
   "file_extension": ".py",
   "mimetype": "text/x-python",
   "name": "python",
   "nbconvert_exporter": "python",
   "pygments_lexer": "ipython3",
   "version": "3.9.18"
  }
 },
 "nbformat": 4,
 "nbformat_minor": 2
}
